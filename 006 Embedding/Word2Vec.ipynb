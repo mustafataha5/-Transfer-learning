{
 "cells": [
  {
   "cell_type": "code",
   "execution_count": 9,
   "id": "42920656-78f0-447a-b8c1-670a8bd6e21e",
   "metadata": {},
   "outputs": [],
   "source": [
    "from nltk.tokenize import word_tokenize \n",
    "from gensim.models import Word2Vec, KeyedVectors\n",
    "\n",
    "\n"
   ]
  },
  {
   "cell_type": "code",
   "execution_count": 10,
   "id": "27adaf10",
   "metadata": {},
   "outputs": [
    {
     "data": {
      "text/plain": [
       "(14, 115)"
      ]
     },
     "execution_count": 10,
     "metadata": {},
     "output_type": "execute_result"
    }
   ],
   "source": [
    "document = [   \"I love programming in Python\",\n",
    "                \"Python is great for data science\",\n",
    "                \"I enjoy learning new programming languages\",\n",
    "                \"Data science is an exciting field\",]\n",
    "sentences = [word_tokenize(doc.lower()) for doc in document]\n",
    "model = Word2Vec(sentences, vector_size=100, window=5, min_count=1, workers=4)\n",
    "model.train(sentences, total_examples=model.corpus_count, epochs=model.epochs)\n"
   ]
  },
  {
   "cell_type": "code",
   "execution_count": 12,
   "id": "bfe60bda",
   "metadata": {},
   "outputs": [
    {
     "data": {
      "text/plain": [
       "array([-8.2426779e-03,  9.2993546e-03, -1.9766092e-04, -1.9672764e-03,\n",
       "        4.6036304e-03, -4.0953159e-03,  2.7431143e-03,  6.9399667e-03,\n",
       "        6.0654259e-03, -7.5107943e-03,  9.3823504e-03,  4.6718083e-03,\n",
       "        3.9661205e-03, -6.2435055e-03,  8.4599797e-03, -2.1501649e-03,\n",
       "        8.8251876e-03, -5.3620026e-03, -8.1294188e-03,  6.8245591e-03,\n",
       "        1.6711927e-03, -2.1985089e-03,  9.5136007e-03,  9.4938548e-03,\n",
       "       -9.7740470e-03,  2.5052286e-03,  6.1566923e-03,  3.8724565e-03,\n",
       "        2.0227872e-03,  4.3050171e-04,  6.7363144e-04, -3.8206363e-03,\n",
       "       -7.1402504e-03, -2.0888723e-03,  3.9238976e-03,  8.8186832e-03,\n",
       "        9.2591504e-03, -5.9759365e-03, -9.4026709e-03,  9.7643770e-03,\n",
       "        3.4297847e-03,  5.1661171e-03,  6.2823449e-03, -2.8042626e-03,\n",
       "        7.3227035e-03,  2.8302716e-03,  2.8710044e-03, -2.3803699e-03,\n",
       "       -3.1282497e-03, -2.3701417e-03,  4.2764368e-03,  7.6057913e-05,\n",
       "       -9.5842788e-03, -9.6655441e-03, -6.1481940e-03, -1.2856961e-04,\n",
       "        1.9974159e-03,  9.4319675e-03,  5.5843508e-03, -4.2906962e-03,\n",
       "        2.7831673e-04,  4.9643586e-03,  7.6983096e-03, -1.1442233e-03,\n",
       "        4.3234206e-03, -5.8143795e-03, -8.0419064e-04,  8.1000505e-03,\n",
       "       -2.3600650e-03, -9.6634552e-03,  5.7792603e-03, -3.9298222e-03,\n",
       "       -1.2228728e-03,  9.9805174e-03, -2.2563506e-03, -4.7570644e-03,\n",
       "       -5.3293873e-03,  6.9808899e-03, -5.7088719e-03,  2.1136629e-03,\n",
       "       -5.2556600e-03,  6.1207139e-03,  4.3573068e-03,  2.6063549e-03,\n",
       "       -1.4910829e-03, -2.7460635e-03,  8.9929365e-03,  5.2157748e-03,\n",
       "       -2.1625196e-03, -9.4703101e-03, -7.4260519e-03, -1.0637414e-03,\n",
       "       -7.9494715e-04, -2.5629092e-03,  9.6827205e-03, -4.5852066e-04,\n",
       "        5.8737611e-03, -7.4475873e-03, -2.5060738e-03, -5.5498634e-03],\n",
       "      dtype=float32)"
      ]
     },
     "execution_count": 12,
     "metadata": {},
     "output_type": "execute_result"
    }
   ],
   "source": [
    "model.wv.get_vector('python')  # Get the vector for the word 'python'"
   ]
  },
  {
   "cell_type": "code",
   "execution_count": 13,
   "id": "e6175c5e",
   "metadata": {},
   "outputs": [],
   "source": [
    "#fine-tuning \n",
    "# Load pre-trained word vectors\n",
    "# model = KeyedVectors.load_word2vec_format('path/to/pretrained/model.bin', binary=True)\n",
    "# Fine-tune the model on new sentences\n",
    "# new_sentences = [[\"new\", \"sentence\", \"for\", \"fine\", \"tuning\"]]\n",
    "# model.train(new_sentences, total_examples=len(new_sentences), epochs=model.epochs)\n",
    "# Save the model\n",
    "# model.save('fine_tuned_model.bin')\n",
    "# Save the model"
   ]
  },
  {
   "cell_type": "code",
   "execution_count": null,
   "id": "2adb71b7",
   "metadata": {},
   "outputs": [],
   "source": [
    "# "
   ]
  }
 ],
 "metadata": {
  "kernelspec": {
   "display_name": "Python 3 (ipykernel)",
   "language": "python",
   "name": "python3"
  },
  "language_info": {
   "codemirror_mode": {
    "name": "ipython",
    "version": 3
   },
   "file_extension": ".py",
   "mimetype": "text/x-python",
   "name": "python",
   "nbconvert_exporter": "python",
   "pygments_lexer": "ipython3",
   "version": "3.10.18"
  }
 },
 "nbformat": 4,
 "nbformat_minor": 5
}
