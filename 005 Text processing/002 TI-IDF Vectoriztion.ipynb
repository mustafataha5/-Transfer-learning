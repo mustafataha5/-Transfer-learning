{
 "cells": [
  {
   "cell_type": "code",
   "execution_count": 1,
   "id": "98ef6bc0-79b1-4b81-be1e-dfb8073e976b",
   "metadata": {},
   "outputs": [],
   "source": [
    "\n",
    "\n",
    "\n",
    "text = [\"Learing Python programmig is fast as Python is easy\",\"Python is great programmig language\",\"Mustafa will marrey soon  \"]\n"
   ]
  },
  {
   "cell_type": "code",
   "execution_count": 7,
   "id": "885d83c3-d60e-4141-be87-6efd33df387e",
   "metadata": {},
   "outputs": [
    {
     "name": "stdout",
     "output_type": "stream",
     "text": [
      "<Compressed Sparse Row sparse matrix of dtype 'float64'\n",
      "\twith 16 stored elements and shape (3, 13)>\n",
      "  Coords\tValues\n",
      "  (0, 6)\t0.3295900297621176\n",
      "  (0, 10)\t0.5013234259329669\n",
      "  (0, 9)\t0.25066171296648343\n",
      "  (0, 4)\t0.5013234259329669\n",
      "  (0, 2)\t0.3295900297621176\n",
      "  (0, 0)\t0.3295900297621176\n",
      "  (0, 1)\t0.3295900297621176\n",
      "  (1, 10)\t0.39351120409397233\n",
      "  (1, 9)\t0.39351120409397233\n",
      "  (1, 4)\t0.39351120409397233\n",
      "  (1, 3)\t0.5174199439321682\n",
      "  (1, 5)\t0.5174199439321682\n",
      "  (2, 8)\t0.5\n",
      "  (2, 12)\t0.5\n",
      "  (2, 7)\t0.5\n",
      "  (2, 11)\t0.5\n"
     ]
    }
   ],
   "source": [
    "from sklearn.feature_extraction.text import TfidfVectorizer\n",
    "\n",
    "\n",
    "\n",
    "max_features= 128\n",
    "\n",
    "tfidf_vetorizer = TfidfVectorizer(max_features=max_features)\n",
    "tfidf_vectors = tfidf_vetorizer.fit_transform(text)\n",
    "\n",
    "\n",
    "\n",
    "print(tfidf_vectors)\n",
    "\n",
    "\n"
   ]
  },
  {
   "cell_type": "code",
   "execution_count": 8,
   "id": "75e49eee-130c-407a-80bf-97cde129fd4b",
   "metadata": {},
   "outputs": [
    {
     "data": {
      "text/plain": [
       "array(['as', 'easy', 'fast', 'great', 'is', 'language', 'learing',\n",
       "       'marrey', 'mustafa', 'programmig', 'python', 'soon', 'will'],\n",
       "      dtype=object)"
      ]
     },
     "execution_count": 8,
     "metadata": {},
     "output_type": "execute_result"
    }
   ],
   "source": [
    "tfidf_vetorizer.get_feature_names_out()"
   ]
  },
  {
   "cell_type": "code",
   "execution_count": 9,
   "id": "031cab0c-bfd1-46fb-a4b7-b1c3d17839f2",
   "metadata": {},
   "outputs": [],
   "source": [
    "import pandas as pd \n"
   ]
  },
  {
   "cell_type": "code",
   "execution_count": 10,
   "id": "13bf74da-72da-43bd-9657-7c1834c9dbf7",
   "metadata": {},
   "outputs": [
    {
     "data": {
      "text/html": [
       "<div>\n",
       "<style scoped>\n",
       "    .dataframe tbody tr th:only-of-type {\n",
       "        vertical-align: middle;\n",
       "    }\n",
       "\n",
       "    .dataframe tbody tr th {\n",
       "        vertical-align: top;\n",
       "    }\n",
       "\n",
       "    .dataframe thead th {\n",
       "        text-align: right;\n",
       "    }\n",
       "</style>\n",
       "<table border=\"1\" class=\"dataframe\">\n",
       "  <thead>\n",
       "    <tr style=\"text-align: right;\">\n",
       "      <th></th>\n",
       "      <th>as</th>\n",
       "      <th>easy</th>\n",
       "      <th>fast</th>\n",
       "      <th>great</th>\n",
       "      <th>is</th>\n",
       "      <th>language</th>\n",
       "      <th>learing</th>\n",
       "      <th>marrey</th>\n",
       "      <th>mustafa</th>\n",
       "      <th>programmig</th>\n",
       "      <th>python</th>\n",
       "      <th>soon</th>\n",
       "      <th>will</th>\n",
       "    </tr>\n",
       "  </thead>\n",
       "  <tbody>\n",
       "    <tr>\n",
       "      <th>0</th>\n",
       "      <td>0.32959</td>\n",
       "      <td>0.32959</td>\n",
       "      <td>0.32959</td>\n",
       "      <td>0.00000</td>\n",
       "      <td>0.501323</td>\n",
       "      <td>0.00000</td>\n",
       "      <td>0.32959</td>\n",
       "      <td>0.0</td>\n",
       "      <td>0.0</td>\n",
       "      <td>0.250662</td>\n",
       "      <td>0.501323</td>\n",
       "      <td>0.0</td>\n",
       "      <td>0.0</td>\n",
       "    </tr>\n",
       "    <tr>\n",
       "      <th>1</th>\n",
       "      <td>0.00000</td>\n",
       "      <td>0.00000</td>\n",
       "      <td>0.00000</td>\n",
       "      <td>0.51742</td>\n",
       "      <td>0.393511</td>\n",
       "      <td>0.51742</td>\n",
       "      <td>0.00000</td>\n",
       "      <td>0.0</td>\n",
       "      <td>0.0</td>\n",
       "      <td>0.393511</td>\n",
       "      <td>0.393511</td>\n",
       "      <td>0.0</td>\n",
       "      <td>0.0</td>\n",
       "    </tr>\n",
       "    <tr>\n",
       "      <th>2</th>\n",
       "      <td>0.00000</td>\n",
       "      <td>0.00000</td>\n",
       "      <td>0.00000</td>\n",
       "      <td>0.00000</td>\n",
       "      <td>0.000000</td>\n",
       "      <td>0.00000</td>\n",
       "      <td>0.00000</td>\n",
       "      <td>0.5</td>\n",
       "      <td>0.5</td>\n",
       "      <td>0.000000</td>\n",
       "      <td>0.000000</td>\n",
       "      <td>0.5</td>\n",
       "      <td>0.5</td>\n",
       "    </tr>\n",
       "  </tbody>\n",
       "</table>\n",
       "</div>"
      ],
      "text/plain": [
       "        as     easy     fast    great        is  language  learing  marrey  mustafa  programmig    python  soon  will\n",
       "0  0.32959  0.32959  0.32959  0.00000  0.501323   0.00000  0.32959     0.0      0.0    0.250662  0.501323   0.0   0.0\n",
       "1  0.00000  0.00000  0.00000  0.51742  0.393511   0.51742  0.00000     0.0      0.0    0.393511  0.393511   0.0   0.0\n",
       "2  0.00000  0.00000  0.00000  0.00000  0.000000   0.00000  0.00000     0.5      0.5    0.000000  0.000000   0.5   0.5"
      ]
     },
     "execution_count": 10,
     "metadata": {},
     "output_type": "execute_result"
    }
   ],
   "source": [
    "df =pd.DataFrame(tfidf_vectors.toarray(),columns=tfidf_vetorizer.get_feature_names_out())\n",
    "df"
   ]
  },
  {
   "cell_type": "code",
   "execution_count": null,
   "id": "2c12c8c4-c662-4e16-98a0-b6b18126f7fd",
   "metadata": {},
   "outputs": [],
   "source": []
  }
 ],
 "metadata": {
  "kernelspec": {
   "display_name": "Python 3 (ipykernel)",
   "language": "python",
   "name": "python3"
  },
  "language_info": {
   "codemirror_mode": {
    "name": "ipython",
    "version": 3
   },
   "file_extension": ".py",
   "mimetype": "text/x-python",
   "name": "python",
   "nbconvert_exporter": "python",
   "pygments_lexer": "ipython3",
   "version": "3.10.18"
  }
 },
 "nbformat": 4,
 "nbformat_minor": 5
}
