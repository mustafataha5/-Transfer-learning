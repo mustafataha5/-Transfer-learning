{
 "cells": [
  {
   "cell_type": "code",
   "execution_count": 2,
   "id": "06a1ae7e-0187-4227-939e-693baa03a4fd",
   "metadata": {},
   "outputs": [],
   "source": [
    "# !pip install transformers"
   ]
  },
  {
   "cell_type": "code",
   "execution_count": 5,
   "id": "49f89288-cd4e-4faa-9aca-5746f503e7d6",
   "metadata": {},
   "outputs": [
    {
     "data": {
      "application/vnd.jupyter.widget-view+json": {
       "model_id": "1d508ac1269a4fb8b1a6255621db0275",
       "version_major": 2,
       "version_minor": 0
      },
      "text/plain": [
       "tokenizer_config.json:   0%|          | 0.00/48.0 [00:00<?, ?B/s]"
      ]
     },
     "metadata": {},
     "output_type": "display_data"
    },
    {
     "data": {
      "application/vnd.jupyter.widget-view+json": {
       "model_id": "3e144fefd7404cc9a756d275a15fe360",
       "version_major": 2,
       "version_minor": 0
      },
      "text/plain": [
       "vocab.txt:   0%|          | 0.00/232k [00:00<?, ?B/s]"
      ]
     },
     "metadata": {},
     "output_type": "display_data"
    },
    {
     "data": {
      "application/vnd.jupyter.widget-view+json": {
       "model_id": "1455bc9920c84e12abacf8780214f341",
       "version_major": 2,
       "version_minor": 0
      },
      "text/plain": [
       "tokenizer.json:   0%|          | 0.00/466k [00:00<?, ?B/s]"
      ]
     },
     "metadata": {},
     "output_type": "display_data"
    },
    {
     "data": {
      "application/vnd.jupyter.widget-view+json": {
       "model_id": "f89da97d4058411fa7b4044c06de1b72",
       "version_major": 2,
       "version_minor": 0
      },
      "text/plain": [
       "config.json:   0%|          | 0.00/570 [00:00<?, ?B/s]"
      ]
     },
     "metadata": {},
     "output_type": "display_data"
    },
    {
     "name": "stderr",
     "output_type": "stream",
     "text": [
      "Xet Storage is enabled for this repo, but the 'hf_xet' package is not installed. Falling back to regular HTTP download. For better performance, install the package with: `pip install huggingface_hub[hf_xet]` or `pip install hf_xet`\n"
     ]
    },
    {
     "data": {
      "application/vnd.jupyter.widget-view+json": {
       "model_id": "a4aad87ca7744f089bb5efa5b31b4298",
       "version_major": 2,
       "version_minor": 0
      },
      "text/plain": [
       "model.safetensors:   0%|          | 0.00/440M [00:00<?, ?B/s]"
      ]
     },
     "metadata": {},
     "output_type": "display_data"
    }
   ],
   "source": [
    "from transformers import BertTokenizer, BertModel\n",
    "tokenizer = BertTokenizer.from_pretrained('bert-base-uncased')\n",
    "model = BertModel.from_pretrained(\"bert-base-uncased\")"
   ]
  },
  {
   "cell_type": "code",
   "execution_count": 13,
   "id": "3dbeb1a0-4376-4956-b680-348746c66bcc",
   "metadata": {},
   "outputs": [
    {
     "name": "stdout",
     "output_type": "stream",
     "text": [
      "replace , Token ID : 5672\n",
      "me , Token ID : 2033\n",
      "by , Token ID : 2011\n",
      "any , Token ID : 2151\n",
      "text , Token ID : 3793\n",
      "you , Token ID : 2017\n",
      "' , Token ID : 1005\n",
      "d , Token ID : 1040\n",
      "like , Token ID : 2066\n",
      ". , Token ID : 1012\n"
     ]
    }
   ],
   "source": [
    "text = \"Replace me by any text you'd like.\"\n",
    "encoded_input = tokenizer.tokenize(text)\n",
    "for token in encoded_input: \n",
    "    print(f\"{token} , Token ID : {tokenizer.convert_tokens_to_ids(token)}\")\n",
    "# output = model(**encoded_input)"
   ]
  },
  {
   "cell_type": "code",
   "execution_count": 14,
   "id": "ad38a84b-2072-4933-9b7a-d9d60a14da53",
   "metadata": {},
   "outputs": [
    {
     "name": "stdout",
     "output_type": "stream",
     "text": [
      "play , Token ID : 2377\n",
      "foot , Token ID : 3329\n",
      "- , Token ID : 1011\n",
      "ball , Token ID : 3608\n",
      ". , Token ID : 1012\n"
     ]
    }
   ],
   "source": [
    "text = \"play foot-ball.\"\n",
    "encoded_input = tokenizer.tokenize(text)\n",
    "for token in encoded_input: \n",
    "    print(f\"{token} , Token ID : {tokenizer.convert_tokens_to_ids(token)}\")"
   ]
  },
  {
   "cell_type": "code",
   "execution_count": 15,
   "id": "4fa96595-a9bd-4524-9d2f-b27e969df09f",
   "metadata": {},
   "outputs": [
    {
     "name": "stdout",
     "output_type": "stream",
     "text": [
      "play , Token ID : 2377\n",
      "foot , Token ID : 3329\n",
      "##tt , Token ID : 4779\n",
      "- , Token ID : 1011\n",
      "ball , Token ID : 3608\n",
      ". , Token ID : 1012\n"
     ]
    }
   ],
   "source": [
    "text = \"play foottt-ball.\"\n",
    "encoded_input = tokenizer.tokenize(text)\n",
    "for token in encoded_input: \n",
    "    print(f\"{token} , Token ID : {tokenizer.convert_tokens_to_ids(token)}\")"
   ]
  },
  {
   "cell_type": "code",
   "execution_count": 17,
   "id": "da69e9fe-b73b-4ad5-920a-38471c65f679",
   "metadata": {},
   "outputs": [
    {
     "data": {
      "text/plain": [
       "{'input_ids': tensor([[ 101, 2377, 3329, 4779, 1011, 3608, 1012,  102]]), 'token_type_ids': tensor([[0, 0, 0, 0, 0, 0, 0, 0]]), 'attention_mask': tensor([[1, 1, 1, 1, 1, 1, 1, 1]])}"
      ]
     },
     "execution_count": 17,
     "metadata": {},
     "output_type": "execute_result"
    }
   ],
   "source": [
    "tokenizer(text,return_tensors=\"pt\")"
   ]
  },
  {
   "cell_type": "code",
   "execution_count": 48,
   "id": "fff633aa-11ba-4fb6-9b31-1fa577500e86",
   "metadata": {},
   "outputs": [
    {
     "data": {
      "text/plain": [
       "{'input_ids': tensor([[ 101, 2377, 3329, 4779, 1011, 3608, 1012,  102]]), 'token_type_ids': tensor([[0, 0, 0, 0, 0, 0, 0, 0]]), 'attention_mask': tensor([[1, 1, 1, 1, 1, 1, 1, 1]])}"
      ]
     },
     "execution_count": 48,
     "metadata": {},
     "output_type": "execute_result"
    }
   ],
   "source": [
    "ptokens = tokenizer(text,return_tensors=\"pt\")\n",
    "\n",
    "ptokens_ids = ptokens['input_ids']\n",
    "\n",
    "\n",
    "ptokens"
   ]
  },
  {
   "cell_type": "code",
   "execution_count": 35,
   "id": "9964a3a6-bb16-4d27-8634-b440e13df46c",
   "metadata": {},
   "outputs": [
    {
     "data": {
      "text/plain": [
       "<tf.Tensor: shape=(1, 8), dtype=int32, numpy=array([[ 101, 2377, 3329, 4779, 1011, 3608, 1012,  102]])>"
      ]
     },
     "execution_count": 35,
     "metadata": {},
     "output_type": "execute_result"
    }
   ],
   "source": [
    "ttokens = tokenizer(text,return_tensors=\"tf\")['input_ids']\n",
    "ttokens"
   ]
  },
  {
   "cell_type": "code",
   "execution_count": 36,
   "id": "600d9a51-5c80-4a0b-9280-b2499530cd99",
   "metadata": {},
   "outputs": [
    {
     "data": {
      "text/plain": [
       "<tf.Tensor: shape=(1, 8), dtype=int32, numpy=array([[ 101, 2377, 3329, 4779, 1011, 3608, 1012,  102]])>"
      ]
     },
     "execution_count": 36,
     "metadata": {},
     "output_type": "execute_result"
    }
   ],
   "source": [
    "ttokens"
   ]
  },
  {
   "cell_type": "code",
   "execution_count": 38,
   "id": "8ab9b0c1-0dd2-4684-811b-5ea16065aa0b",
   "metadata": {},
   "outputs": [
    {
     "data": {
      "text/plain": [
       "['[CLS]', 'play', 'foot', '##tt', '-', 'ball', '.', '[SEP]']"
      ]
     },
     "execution_count": 38,
     "metadata": {},
     "output_type": "execute_result"
    }
   ],
   "source": [
    "tokenizer.convert_ids_to_tokens(ptokens_ids[0])"
   ]
  },
  {
   "cell_type": "code",
   "execution_count": 39,
   "id": "db656443-9a24-40e3-93c3-4d9a36172a5e",
   "metadata": {},
   "outputs": [
    {
     "data": {
      "text/plain": [
       "['[CLS]', 'play', 'foot', '##tt', '-', 'ball', '.', '[SEP]']"
      ]
     },
     "execution_count": 39,
     "metadata": {},
     "output_type": "execute_result"
    }
   ],
   "source": [
    "tokenizer.convert_ids_to_tokens(ttokens[0])"
   ]
  },
  {
   "cell_type": "code",
   "execution_count": 52,
   "id": "a2a31151-bfdb-498b-a4d9-efd5a4353385",
   "metadata": {},
   "outputs": [
    {
     "data": {
      "text/plain": [
       "BaseModelOutputWithPoolingAndCrossAttentions(last_hidden_state=tensor([[[-0.0973,  0.0348, -0.1640,  ..., -0.1981,  0.1242,  0.7169],\n",
       "         [ 0.5311,  0.0539,  0.0021,  ..., -0.1574,  0.5985,  0.0440],\n",
       "         [ 0.4011, -0.3905,  0.3016,  ..., -0.0181,  0.0029, -0.9020],\n",
       "         ...,\n",
       "         [-0.0215, -0.8562,  0.2143,  ...,  0.0302, -0.3039, -0.0671],\n",
       "         [-0.1902, -0.3608, -0.4653,  ...,  0.2061,  0.1218, -0.0703],\n",
       "         [ 0.8401,  0.3220, -0.3806,  ...,  0.2678, -0.7167, -0.1093]]],\n",
       "       grad_fn=<NativeLayerNormBackward0>), pooler_output=tensor([[-8.6771e-01, -3.8209e-01, -9.1238e-01,  8.2578e-01,  8.2466e-01,\n",
       "         -7.1584e-02,  8.6921e-01,  2.8143e-01, -7.3891e-01, -9.9999e-01,\n",
       "         -5.6085e-01,  8.1962e-01,  9.8088e-01,  5.4753e-01,  9.0938e-01,\n",
       "         -6.0601e-01, -1.4964e-01, -6.3724e-01,  2.4774e-01, -3.4570e-01,\n",
       "          6.9014e-01,  9.9999e-01, -1.1031e-01,  2.7855e-01,  4.3415e-01,\n",
       "          9.6832e-01, -6.9090e-01,  9.1802e-01,  9.5257e-01,  7.1229e-01,\n",
       "         -6.1958e-01,  2.1771e-01, -9.8984e-01, -2.1145e-01, -9.2089e-01,\n",
       "         -9.9387e-01,  4.5315e-01, -7.0945e-01,  4.0889e-02,  3.3176e-02,\n",
       "         -9.2720e-01,  2.7432e-01,  9.9999e-01, -9.7960e-02,  5.6849e-01,\n",
       "         -1.8912e-01, -1.0000e+00,  1.8418e-01, -8.9686e-01,  8.5561e-01,\n",
       "          8.5504e-01,  7.1594e-01,  1.0360e-01,  5.0100e-01,  4.8233e-01,\n",
       "         -2.3412e-01, -5.8442e-02,  6.9506e-02, -2.0164e-01, -5.5041e-01,\n",
       "         -6.4648e-01,  3.7907e-01, -9.0338e-01, -8.8742e-01,  8.7322e-01,\n",
       "          6.4507e-01, -2.4054e-01, -4.5575e-01, -3.7161e-02, -6.7812e-02,\n",
       "          8.1894e-01,  2.1934e-01, -5.9074e-02, -8.5583e-01,  4.8509e-01,\n",
       "          2.8713e-01, -6.5614e-01,  1.0000e+00, -4.9755e-01, -9.7608e-01,\n",
       "          8.6569e-01,  7.0009e-01,  6.6665e-01, -3.0567e-01,  4.3834e-01,\n",
       "         -1.0000e+00,  5.2540e-01, -1.8181e-01, -9.9018e-01,  2.5569e-01,\n",
       "          6.1130e-01, -3.1645e-01,  4.9329e-01,  6.5571e-01, -6.7762e-01,\n",
       "         -5.5312e-01, -3.5070e-01, -8.6108e-01, -2.3307e-01, -4.2268e-01,\n",
       "         -8.5791e-02, -2.7181e-01, -2.5695e-01, -4.5453e-01,  4.0456e-01,\n",
       "         -4.7206e-01, -4.3788e-01,  3.7259e-01,  2.1423e-01,  7.1063e-01,\n",
       "          4.4434e-01, -4.1001e-01,  5.0098e-01, -9.3718e-01,  6.2610e-01,\n",
       "         -3.1158e-01, -9.8575e-01, -6.6560e-01, -9.8892e-01,  7.7450e-01,\n",
       "         -4.6818e-01, -1.9448e-01,  9.4742e-01, -4.6415e-01,  4.1283e-01,\n",
       "         -6.0390e-04, -7.8440e-01, -1.0000e+00, -5.8142e-01, -6.9522e-01,\n",
       "         -1.9547e-01, -2.9119e-01, -9.7844e-01, -9.5873e-01,  5.8316e-01,\n",
       "          9.5023e-01,  2.4471e-01,  9.9997e-01, -3.2267e-01,  9.3480e-01,\n",
       "         -3.7383e-01, -6.0300e-01,  5.7057e-01, -4.2892e-01,  8.4469e-01,\n",
       "          2.4590e-01, -5.8672e-01,  2.3976e-01, -4.2532e-01,  1.6281e-01,\n",
       "         -7.7976e-01, -2.9668e-01, -7.5190e-01, -9.3942e-01, -3.1632e-01,\n",
       "          9.3613e-01, -4.7813e-01, -8.9119e-01,  4.2050e-02, -2.3502e-01,\n",
       "         -5.4724e-01,  8.4979e-01,  7.2371e-01,  2.2242e-01, -4.5298e-01,\n",
       "          2.8602e-01,  2.8036e-01,  6.0026e-01, -8.2153e-01,  2.2912e-03,\n",
       "          3.6804e-01, -3.7314e-01, -8.8691e-01, -9.7831e-01, -4.5518e-01,\n",
       "          6.2490e-01,  9.8750e-01,  7.0213e-01,  2.5718e-01,  6.6889e-01,\n",
       "         -3.4816e-01,  6.8788e-01, -9.4904e-01,  9.8123e-01, -1.5131e-01,\n",
       "          2.3651e-01, -5.5318e-01,  1.3386e-01, -8.6116e-01,  2.0921e-01,\n",
       "          7.8892e-01, -6.4232e-01, -8.0611e-01, -6.7684e-02, -3.7873e-01,\n",
       "         -4.2703e-01, -8.3437e-01,  4.8728e-01, -3.5521e-01, -4.7437e-01,\n",
       "         -1.2716e-01,  9.3253e-01,  9.6471e-01,  8.1960e-01,  1.6253e-01,\n",
       "          7.6347e-01, -8.8540e-01, -3.2553e-01,  1.2358e-01,  2.4301e-01,\n",
       "          1.6606e-01,  9.9346e-01, -8.3511e-01, -1.3899e-01, -9.1708e-01,\n",
       "         -9.8428e-01,  6.6811e-03, -9.1093e-01, -5.3734e-02, -7.1939e-01,\n",
       "          6.9685e-01, -4.5645e-01,  4.3538e-01,  3.5052e-01, -9.6160e-01,\n",
       "         -7.5498e-01,  3.5063e-01, -4.3247e-01,  4.4127e-01, -2.4503e-01,\n",
       "          8.9348e-01,  9.1579e-01, -6.1954e-01,  4.2480e-01,  9.4323e-01,\n",
       "         -8.6617e-01, -8.2527e-01,  6.9722e-01, -2.1007e-01,  7.8402e-01,\n",
       "         -6.5878e-01,  9.9418e-01,  8.8062e-01,  6.4438e-01, -9.3417e-01,\n",
       "         -7.4761e-01, -7.9698e-01, -6.1198e-01, -3.1564e-01, -5.6461e-02,\n",
       "          8.6126e-01,  6.3834e-01,  3.8547e-01,  2.7877e-01, -6.4900e-01,\n",
       "          9.9132e-01, -9.0887e-01, -9.6031e-01, -7.6458e-01, -2.1797e-01,\n",
       "         -9.9132e-01,  9.1466e-01,  2.5719e-01,  7.8432e-01, -5.5583e-01,\n",
       "         -6.7459e-01, -9.6270e-01,  8.0706e-01, -1.3488e-02,  9.7617e-01,\n",
       "         -4.1340e-01, -9.0156e-01, -5.3999e-01, -9.3999e-01, -9.3399e-02,\n",
       "         -1.5680e-01, -3.3025e-01, -1.8665e-01, -9.4721e-01,  5.2855e-01,\n",
       "          5.7878e-01,  4.3308e-01, -8.3980e-01,  9.9724e-01,  1.0000e+00,\n",
       "          9.7593e-01,  8.6183e-01,  8.0515e-01, -9.9991e-01, -7.6332e-01,\n",
       "          1.0000e+00, -9.7204e-01, -1.0000e+00, -9.2411e-01, -6.3730e-01,\n",
       "          3.5458e-01, -1.0000e+00, -5.7563e-02,  4.6070e-02, -9.4238e-01,\n",
       "          5.6547e-01,  9.7914e-01,  9.8153e-01, -1.0000e+00,  8.7926e-01,\n",
       "          9.2445e-01, -7.0299e-01,  9.1271e-01, -5.0878e-01,  9.6648e-01,\n",
       "          6.2916e-01,  7.9233e-01, -1.9013e-01,  4.6916e-01, -9.4569e-01,\n",
       "         -8.3801e-01, -6.0043e-01, -6.6544e-01,  9.9865e-01,  1.8489e-01,\n",
       "         -7.3709e-01, -9.1134e-01,  6.0012e-01, -8.1442e-02,  1.1433e-01,\n",
       "         -9.5570e-01, -2.9690e-01,  3.7764e-01,  7.9065e-01,  2.1658e-01,\n",
       "          2.7261e-01, -5.8124e-01,  3.6246e-01,  6.2497e-02,  4.0115e-01,\n",
       "          7.1728e-01, -9.5435e-01, -4.3511e-01, -3.4600e-01, -1.1724e-01,\n",
       "         -6.5744e-01, -9.5570e-01,  9.6610e-01, -2.1528e-01,  7.8927e-01,\n",
       "          1.0000e+00,  6.8476e-01, -8.8245e-01,  8.1152e-01,  3.0774e-01,\n",
       "         -6.6203e-01,  1.0000e+00,  7.4987e-01, -9.8253e-01, -6.0104e-01,\n",
       "          7.0063e-01, -6.4214e-01, -7.2485e-01,  9.9976e-01, -1.7898e-01,\n",
       "         -6.7128e-01, -4.0881e-01,  9.8512e-01, -9.9249e-01,  9.9664e-01,\n",
       "         -8.3653e-01, -9.6213e-01,  9.7112e-01,  9.4161e-01, -6.3046e-01,\n",
       "         -8.5523e-01,  8.1089e-03, -6.0799e-01,  3.2707e-01, -9.0358e-01,\n",
       "          6.2789e-01,  6.1095e-01, -1.6242e-01,  8.9257e-01, -7.6757e-01,\n",
       "         -6.4155e-01,  4.5041e-01, -4.2797e-01,  1.0058e-01,  9.3162e-01,\n",
       "          5.3991e-01, -3.1358e-01, -2.6909e-01, -3.1701e-01, -8.4977e-01,\n",
       "         -9.5671e-01,  6.3930e-01,  1.0000e+00, -2.4918e-01,  8.7401e-01,\n",
       "         -3.3211e-01,  1.3721e-02,  2.5211e-02,  6.3621e-01,  5.7627e-01,\n",
       "         -3.2137e-01, -9.0198e-01,  7.8125e-01, -9.1248e-01, -9.8855e-01,\n",
       "          7.5215e-01,  1.8567e-01, -2.9315e-01,  9.9999e-01,  4.0000e-01,\n",
       "          2.6586e-01,  2.9107e-01,  9.5977e-01, -8.8211e-02,  4.0951e-01,\n",
       "          8.0990e-01,  9.8372e-01, -2.8764e-01,  6.6218e-01,  7.3362e-01,\n",
       "         -8.5905e-01, -2.8975e-01, -6.7293e-01,  1.1773e-01, -9.3178e-01,\n",
       "          2.0799e-01, -9.4844e-01,  9.7143e-01,  8.9941e-01,  4.9865e-01,\n",
       "          3.0039e-01,  6.8476e-01,  1.0000e+00, -9.3417e-01,  5.0526e-01,\n",
       "          7.7768e-02,  7.5206e-01, -9.9984e-01, -6.5678e-01, -3.5925e-01,\n",
       "         -1.4580e-01, -7.9150e-01, -3.5562e-01,  3.3015e-01, -9.7442e-01,\n",
       "          7.7338e-01,  6.9442e-01, -9.7432e-01, -9.9011e-01, -1.7515e-01,\n",
       "          7.5234e-01,  6.9643e-02, -9.9078e-01, -7.0019e-01, -6.4756e-01,\n",
       "          6.8856e-01, -3.2439e-01, -9.3016e-01, -4.5288e-02, -3.1223e-01,\n",
       "          5.0301e-01, -2.2245e-01,  6.2592e-01,  7.4711e-01,  7.6132e-01,\n",
       "         -8.5223e-01, -4.9019e-01, -6.7234e-02, -8.1709e-01,  8.4445e-01,\n",
       "         -7.9961e-01, -8.9831e-01, -1.3923e-01,  1.0000e+00, -2.9762e-01,\n",
       "          8.9553e-01,  7.0871e-01,  6.6325e-01, -2.5909e-01,  2.7947e-01,\n",
       "          9.4239e-01,  2.7695e-01, -5.9933e-01, -7.1024e-01, -1.4947e-01,\n",
       "         -4.4794e-01,  6.5232e-01,  7.0523e-01,  5.8372e-01,  8.4394e-01,\n",
       "          8.9014e-01,  1.6753e-01, -6.7689e-02, -1.2987e-01,  9.9871e-01,\n",
       "         -1.5046e-01, -4.3135e-02, -4.5927e-01, -2.4787e-01, -3.5106e-01,\n",
       "         -7.6011e-02,  1.0000e+00,  2.9145e-01,  6.3136e-01, -9.8970e-01,\n",
       "         -8.6369e-01, -8.8133e-01,  1.0000e+00,  8.1702e-01, -8.5169e-01,\n",
       "          6.2205e-01,  5.7547e-01, -3.9946e-02,  6.5258e-01, -2.3969e-01,\n",
       "         -2.4385e-01,  1.9176e-01,  2.1041e-01,  9.3329e-01, -5.9264e-01,\n",
       "         -9.7622e-01, -7.6867e-01,  4.8327e-01, -9.6315e-01,  9.9997e-01,\n",
       "         -5.5466e-01, -3.0831e-01, -5.8119e-01, -3.6543e-01,  9.4474e-02,\n",
       "         -7.0900e-03, -9.8048e-01, -1.7227e-01,  2.1378e-01,  9.4947e-01,\n",
       "          1.7852e-01, -6.4009e-01, -9.0148e-01,  7.2215e-01,  7.9096e-01,\n",
       "         -8.3251e-01, -9.5224e-01,  9.7006e-01, -9.6121e-01,  5.1218e-01,\n",
       "          1.0000e+00,  2.5777e-01,  1.9613e-01,  2.3014e-01, -3.4574e-01,\n",
       "          4.0919e-01, -6.9638e-01,  5.5720e-01, -9.5599e-01, -2.3973e-01,\n",
       "         -2.3501e-01,  4.0011e-01, -1.7280e-01, -3.0964e-01,  7.7152e-01,\n",
       "          2.1514e-01, -6.6495e-01, -6.2913e-01, -5.2572e-02,  3.2816e-01,\n",
       "          8.2975e-01, -2.1361e-01, -1.0887e-01,  1.3562e-01, -9.4026e-02,\n",
       "         -9.0782e-01, -3.6949e-01, -4.7832e-01, -1.0000e+00,  6.9275e-01,\n",
       "         -1.0000e+00,  5.7719e-01,  3.2696e-02, -2.2504e-01,  8.4540e-01,\n",
       "          6.6900e-01,  6.4943e-01, -7.4897e-01, -7.7847e-01,  4.3097e-01,\n",
       "          8.2240e-01, -4.1006e-01, -4.7217e-01, -6.8398e-01,  4.0064e-01,\n",
       "         -6.8473e-02,  2.1982e-01, -2.2865e-01,  6.8990e-01, -1.2705e-01,\n",
       "          1.0000e+00,  1.4913e-01, -5.2657e-01, -9.5365e-01,  2.4745e-01,\n",
       "         -1.2935e-01,  1.0000e+00, -8.1254e-01, -9.6132e-01,  3.0529e-01,\n",
       "         -7.1385e-01, -8.2082e-01,  3.9641e-01,  1.3291e-01, -7.4249e-01,\n",
       "         -9.3838e-01,  9.2568e-01,  7.8348e-01, -6.6537e-01,  6.8737e-01,\n",
       "         -3.0967e-01, -6.0169e-01,  9.3222e-02,  9.1213e-01,  9.8373e-01,\n",
       "          7.7766e-01,  8.6605e-01, -2.8033e-02, -4.1019e-01,  9.7029e-01,\n",
       "          1.8498e-01,  3.6669e-01,  1.0151e-01,  1.0000e+00,  3.6337e-01,\n",
       "         -9.1249e-01,  2.0333e-01, -9.7486e-01, -3.1038e-01, -9.0216e-01,\n",
       "          2.1227e-01,  2.0610e-01,  8.7786e-01, -3.0462e-01,  9.5647e-01,\n",
       "         -8.3071e-01, -5.4825e-02, -6.2579e-01, -3.5640e-01,  3.7918e-01,\n",
       "         -9.3583e-01, -9.8316e-01, -9.8696e-01,  6.2640e-01, -4.3135e-01,\n",
       "         -6.9439e-02,  1.8335e-01,  1.4896e-01,  4.5470e-01,  4.0612e-01,\n",
       "         -1.0000e+00,  9.1869e-01,  5.1183e-01,  8.8170e-01,  9.6312e-01,\n",
       "          7.1063e-01,  5.9830e-01,  2.6431e-01, -9.8367e-01, -9.7017e-01,\n",
       "         -4.8564e-01, -2.2326e-01,  7.7748e-01,  6.7558e-01,  8.3457e-01,\n",
       "          4.5291e-01, -4.9953e-01, -5.2807e-01, -6.0715e-01, -7.8996e-01,\n",
       "         -9.9330e-01,  5.6887e-01, -4.2040e-01, -8.8616e-01,  9.6123e-01,\n",
       "         -3.6948e-01, -1.3481e-01,  1.3021e-02, -8.3337e-01,  8.7100e-01,\n",
       "          8.4569e-01,  3.0083e-01,  1.9682e-01,  3.8749e-01,  8.9704e-01,\n",
       "          9.4551e-01,  9.8717e-01, -8.3521e-01,  8.1436e-01, -5.0388e-01,\n",
       "          5.9685e-01,  9.0394e-01, -9.5742e-01,  1.7966e-01,  5.5700e-01,\n",
       "         -5.6831e-01,  2.0999e-01, -3.1998e-01, -9.0784e-01,  9.3185e-01,\n",
       "         -2.6436e-01,  6.7091e-01, -4.3862e-01,  2.3651e-01, -3.7900e-01,\n",
       "         -2.8464e-01, -8.5563e-01, -4.8972e-01,  7.3453e-01,  2.9271e-01,\n",
       "          9.0211e-01,  9.0586e-01, -1.6748e-02, -7.0522e-01, -2.6912e-01,\n",
       "         -6.6982e-01, -9.3282e-01,  8.4955e-01, -1.1650e-01, -1.2123e-01,\n",
       "          8.5825e-01,  7.8338e-02,  9.5430e-01,  5.1936e-01, -4.0268e-01,\n",
       "         -2.8391e-01, -7.7568e-01,  8.4044e-01, -5.8716e-01, -6.2010e-01,\n",
       "         -5.9195e-01,  7.7695e-01,  3.9513e-01,  1.0000e+00, -7.7909e-01,\n",
       "         -8.8156e-01, -5.6960e-01, -4.6359e-01,  3.1998e-01, -6.2112e-01,\n",
       "         -1.0000e+00,  3.0911e-01, -5.7160e-01,  7.3197e-01, -7.6518e-01,\n",
       "          8.5576e-01, -6.1329e-01, -9.7964e-01, -3.7870e-01,  5.7569e-01,\n",
       "          6.9396e-01, -4.8488e-01, -8.0580e-01,  6.5413e-01, -2.5146e-01,\n",
       "          9.6353e-01,  8.4505e-01, -1.7810e-01,  1.2536e-01,  7.0160e-01,\n",
       "         -7.6012e-01, -7.3252e-01,  8.8984e-01]], grad_fn=<TanhBackward0>), hidden_states=None, past_key_values=None, attentions=None, cross_attentions=None)"
      ]
     },
     "execution_count": 52,
     "metadata": {},
     "output_type": "execute_result"
    }
   ],
   "source": [
    "out1 = model(ptokens_ids)\n",
    "out1\n",
    "# len(out1[][1])"
   ]
  },
  {
   "cell_type": "code",
   "execution_count": 55,
   "id": "b894df24-62de-4587-8459-efdb6ab34336",
   "metadata": {},
   "outputs": [
    {
     "data": {
      "text/plain": [
       "768"
      ]
     },
     "execution_count": 55,
     "metadata": {},
     "output_type": "execute_result"
    }
   ],
   "source": [
    "len(out1['last_hidden_state'][0][0])"
   ]
  },
  {
   "cell_type": "code",
   "execution_count": 93,
   "id": "9b07a787-74d9-409e-9058-12e1b5623f0d",
   "metadata": {},
   "outputs": [],
   "source": [
    "# tokenizer.encode(out1['last_hidden_state'][0][:])"
   ]
  },
  {
   "cell_type": "code",
   "execution_count": 94,
   "id": "b152e3f0-4197-4ded-a5de-db55ecf3df3d",
   "metadata": {},
   "outputs": [
    {
     "data": {
      "text/plain": [
       "(tensor([[  101,  1045,  2097,  2377,  2374,  2023, 22993,  3070,   102]]),\n",
       " tensor([[ 101, 2057, 2024, 2183, 2000, 1996, 4258, 2000, 3422, 1037, 2377,  102]]))"
      ]
     },
     "execution_count": 94,
     "metadata": {},
     "output_type": "execute_result"
    }
   ],
   "source": [
    "sentence1 = \"I will play football this moring\"\n",
    "sentence2 = \"We are going to the theater  to watch a play\"\n",
    "word = \"play\"\n",
    "tokens1 = tokenizer(sentence1,return_tensors=\"pt\")\n",
    "tokens2 = tokenizer(sentence2,return_tensors=\"pt\")\n",
    "\n",
    "tokens1_ids = tokens1['input_ids']\n",
    "tokens2_ids = tokens2['input_ids']\n",
    "\n",
    "\n",
    "tokens1_ids,tokens2_ids"
   ]
  },
  {
   "cell_type": "code",
   "execution_count": 95,
   "id": "a98f5c87-df05-418d-8771-04901b7c2291",
   "metadata": {},
   "outputs": [
    {
     "data": {
      "text/plain": [
       "2377"
      ]
     },
     "execution_count": 95,
     "metadata": {},
     "output_type": "execute_result"
    }
   ],
   "source": [
    "import numpy as np\n",
    "word_id = tokenizer.convert_tokens_to_ids(word)\n",
    "\n",
    "word_id"
   ]
  },
  {
   "cell_type": "code",
   "execution_count": 96,
   "id": "af3b3fbc-43b1-4612-954f-eb594f02a197",
   "metadata": {},
   "outputs": [
    {
     "data": {
      "text/plain": [
       "(array([3], dtype=int64), array([10], dtype=int64))"
      ]
     },
     "execution_count": 96,
     "metadata": {},
     "output_type": "execute_result"
    }
   ],
   "source": [
    "word_in_sentence1 = np.where(tokens1_ids == word_id)[1]\n",
    "word_in_sentence2 = np.where(tokens2_ids == word_id)[1]\n",
    "\n",
    "word_in_sentence1,word_in_sentence2"
   ]
  },
  {
   "cell_type": "code",
   "execution_count": 97,
   "id": "8e7a3ec4-24aa-470d-8fda-ec406c013375",
   "metadata": {},
   "outputs": [],
   "source": [
    "out1 = model(**tokens1)\n",
    "out2 = model(**tokens2)"
   ]
  },
  {
   "cell_type": "code",
   "execution_count": 98,
   "id": "6c275b0b-aca6-4bc1-8a1b-f0b7610ddb14",
   "metadata": {},
   "outputs": [],
   "source": [
    "embedding_1 = out1['last_hidden_state'][0].detach().numpy()\n",
    "embedding_2=  out2['last_hidden_state'][0].detach().numpy()"
   ]
  },
  {
   "cell_type": "code",
   "execution_count": 99,
   "id": "b95db2a6-3bc4-4231-a944-92d55193dc8e",
   "metadata": {},
   "outputs": [],
   "source": [
    "word1 = embedding_1[word_in_sentence1][0]"
   ]
  },
  {
   "cell_type": "code",
   "execution_count": 100,
   "id": "31cd6b1e-b31d-4071-98a3-99c6d044ef8b",
   "metadata": {},
   "outputs": [],
   "source": [
    "word2 = embedding_2[word_in_sentence2][0]"
   ]
  },
  {
   "cell_type": "code",
   "execution_count": 101,
   "id": "1895ba27-4193-4f7a-bfff-1b8125c90795",
   "metadata": {},
   "outputs": [
    {
     "data": {
      "text/plain": [
       "array([[0.47865653]], dtype=float32)"
      ]
     },
     "execution_count": 101,
     "metadata": {},
     "output_type": "execute_result"
    }
   ],
   "source": [
    "from sklearn.metrics.pairwise import cosine_similarity\n",
    "\n",
    "cosine_similarity([word1],[word2])"
   ]
  },
  {
   "cell_type": "code",
   "execution_count": null,
   "id": "78b02c16-1b6a-4a31-8e93-08805b831a8c",
   "metadata": {},
   "outputs": [],
   "source": []
  }
 ],
 "metadata": {
  "kernelspec": {
   "display_name": "Python 3 (ipykernel)",
   "language": "python",
   "name": "python3"
  },
  "language_info": {
   "codemirror_mode": {
    "name": "ipython",
    "version": 3
   },
   "file_extension": ".py",
   "mimetype": "text/x-python",
   "name": "python",
   "nbconvert_exporter": "python",
   "pygments_lexer": "ipython3",
   "version": "3.10.18"
  }
 },
 "nbformat": 4,
 "nbformat_minor": 5
}
