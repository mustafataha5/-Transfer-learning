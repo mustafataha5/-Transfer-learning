{
 "cells": [
  {
   "cell_type": "code",
   "execution_count": 11,
   "id": "4f5bf87f-c073-4a0d-9d99-50d10c5109b2",
   "metadata": {},
   "outputs": [],
   "source": [
    "# from keras.preprocessing.text import Tokenzier\n",
    "from tensorflow.keras.preprocessing.text import Tokenizer\n",
    "from tensorflow.keras.preprocessing.sequence import pad_sequences"
   ]
  },
  {
   "cell_type": "code",
   "execution_count": 10,
   "id": "e2317c91-a937-466f-a39b-cb44b918fcec",
   "metadata": {},
   "outputs": [
    {
     "data": {
      "text/plain": [
       "[[4, 1, 3, 2, 5, 6, 1, 2, 7], [1, 2, 8, 3, 9], [10, 11, 12, 13]]"
      ]
     },
     "execution_count": 10,
     "metadata": {},
     "output_type": "execute_result"
    }
   ],
   "source": [
    "\n",
    "text = [\"Learing Python programmig is fast as Python is easy\",\"Python is great programmig language\",\"Mustafa will marrey soon  \"]\n",
    "\n",
    "max_words= 128\n",
    "\n",
    "\n",
    "tokenzier = Tokenizer(num_words=max_words)\n",
    "\n",
    "\n",
    "tokenzier.fit_on_texts(text)\n",
    "\n",
    "\n",
    "\n",
    "seq = tokenzier.texts_to_sequences(text) \n",
    "\n",
    "\n",
    "seq\n",
    "\n",
    "\n",
    "\n",
    "\n"
   ]
  },
  {
   "cell_type": "code",
   "execution_count": 14,
   "id": "5f6c402f-4e33-4a12-969d-eb8b6c4c1875",
   "metadata": {},
   "outputs": [],
   "source": [
    "padding = pad_sequences(sequences=seq,maxlen=10,padding=\"post\")"
   ]
  },
  {
   "cell_type": "code",
   "execution_count": 15,
   "id": "2e237d7b-c7cc-4bf9-9574-6910acc56be0",
   "metadata": {},
   "outputs": [
    {
     "data": {
      "text/plain": [
       "array([[ 4,  1,  3,  2,  5,  6,  1,  2,  7,  0],\n",
       "       [ 1,  2,  8,  3,  9,  0,  0,  0,  0,  0],\n",
       "       [10, 11, 12, 13,  0,  0,  0,  0,  0,  0]], dtype=int32)"
      ]
     },
     "execution_count": 15,
     "metadata": {},
     "output_type": "execute_result"
    }
   ],
   "source": [
    "padding"
   ]
  },
  {
   "cell_type": "code",
   "execution_count": null,
   "id": "c390f193-eee1-4f10-ae7a-1265ed3e0033",
   "metadata": {},
   "outputs": [],
   "source": []
  }
 ],
 "metadata": {
  "kernelspec": {
   "display_name": "Python 3 (ipykernel)",
   "language": "python",
   "name": "python3"
  },
  "language_info": {
   "codemirror_mode": {
    "name": "ipython",
    "version": 3
   },
   "file_extension": ".py",
   "mimetype": "text/x-python",
   "name": "python",
   "nbconvert_exporter": "python",
   "pygments_lexer": "ipython3",
   "version": "3.10.18"
  }
 },
 "nbformat": 4,
 "nbformat_minor": 5
}
