{
 "cells": [
  {
   "cell_type": "code",
   "execution_count": 1,
   "id": "78314973-f120-4031-bea4-95a8ecb86f4a",
   "metadata": {},
   "outputs": [],
   "source": [
    "from sklearn.feature_extraction.text import CountVectorizer "
   ]
  },
  {
   "cell_type": "code",
   "execution_count": 14,
   "id": "d432f4b0-ea19-4e1f-8e97-577bd767d41a",
   "metadata": {},
   "outputs": [
    {
     "name": "stdout",
     "output_type": "stream",
     "text": [
      "['as' 'easy' 'fast' 'great' 'is' 'language' 'learing' 'marrey' 'mustafa'\n",
      " 'programmig' 'python' 'soon' 'will']\n",
      "<Compressed Sparse Row sparse matrix of dtype 'int64'\n",
      "\twith 16 stored elements and shape (3, 13)>\n",
      "  Coords\tValues\n",
      "  (0, 6)\t1\n",
      "  (0, 10)\t2\n",
      "  (0, 9)\t1\n",
      "  (0, 4)\t2\n",
      "  (0, 2)\t1\n",
      "  (0, 0)\t1\n",
      "  (0, 1)\t1\n",
      "  (1, 10)\t1\n",
      "  (1, 9)\t1\n",
      "  (1, 4)\t1\n",
      "  (1, 3)\t1\n",
      "  (1, 5)\t1\n",
      "  (2, 8)\t1\n",
      "  (2, 12)\t1\n",
      "  (2, 7)\t1\n",
      "  (2, 11)\t1\n"
     ]
    }
   ],
   "source": [
    "text = [\"Learing Python programmig is fast as Python is easy\",\"Python is great programmig language\",\"Mustafa will marrey soon  \"]\n",
    "\n",
    "max_feature = 100\n",
    "\n",
    "count_vaectorize = CountVectorizer(max_features=max_feature)\n",
    "\n",
    "vectors = count_vaectorize.fit_transform(text)\n",
    "\n",
    "print(count_vaectorize.get_feature_names_out())\n",
    "print(vectors)\n",
    "\n",
    "\n"
   ]
  },
  {
   "cell_type": "code",
   "execution_count": 15,
   "id": "07f2df89-b38a-459a-a33b-4639d197714d",
   "metadata": {},
   "outputs": [],
   "source": [
    "import pandas as pd \n"
   ]
  },
  {
   "cell_type": "code",
   "execution_count": 16,
   "id": "b37c4c4d-52d9-439c-bfab-ed089858659a",
   "metadata": {},
   "outputs": [
    {
     "data": {
      "text/html": [
       "<div>\n",
       "<style scoped>\n",
       "    .dataframe tbody tr th:only-of-type {\n",
       "        vertical-align: middle;\n",
       "    }\n",
       "\n",
       "    .dataframe tbody tr th {\n",
       "        vertical-align: top;\n",
       "    }\n",
       "\n",
       "    .dataframe thead th {\n",
       "        text-align: right;\n",
       "    }\n",
       "</style>\n",
       "<table border=\"1\" class=\"dataframe\">\n",
       "  <thead>\n",
       "    <tr style=\"text-align: right;\">\n",
       "      <th></th>\n",
       "      <th>as</th>\n",
       "      <th>easy</th>\n",
       "      <th>fast</th>\n",
       "      <th>great</th>\n",
       "      <th>is</th>\n",
       "      <th>language</th>\n",
       "      <th>learing</th>\n",
       "      <th>marrey</th>\n",
       "      <th>mustafa</th>\n",
       "      <th>programmig</th>\n",
       "      <th>python</th>\n",
       "      <th>soon</th>\n",
       "      <th>will</th>\n",
       "    </tr>\n",
       "  </thead>\n",
       "  <tbody>\n",
       "    <tr>\n",
       "      <th>0</th>\n",
       "      <td>1</td>\n",
       "      <td>1</td>\n",
       "      <td>1</td>\n",
       "      <td>0</td>\n",
       "      <td>2</td>\n",
       "      <td>0</td>\n",
       "      <td>1</td>\n",
       "      <td>0</td>\n",
       "      <td>0</td>\n",
       "      <td>1</td>\n",
       "      <td>2</td>\n",
       "      <td>0</td>\n",
       "      <td>0</td>\n",
       "    </tr>\n",
       "    <tr>\n",
       "      <th>1</th>\n",
       "      <td>0</td>\n",
       "      <td>0</td>\n",
       "      <td>0</td>\n",
       "      <td>1</td>\n",
       "      <td>1</td>\n",
       "      <td>1</td>\n",
       "      <td>0</td>\n",
       "      <td>0</td>\n",
       "      <td>0</td>\n",
       "      <td>1</td>\n",
       "      <td>1</td>\n",
       "      <td>0</td>\n",
       "      <td>0</td>\n",
       "    </tr>\n",
       "    <tr>\n",
       "      <th>2</th>\n",
       "      <td>0</td>\n",
       "      <td>0</td>\n",
       "      <td>0</td>\n",
       "      <td>0</td>\n",
       "      <td>0</td>\n",
       "      <td>0</td>\n",
       "      <td>0</td>\n",
       "      <td>1</td>\n",
       "      <td>1</td>\n",
       "      <td>0</td>\n",
       "      <td>0</td>\n",
       "      <td>1</td>\n",
       "      <td>1</td>\n",
       "    </tr>\n",
       "  </tbody>\n",
       "</table>\n",
       "</div>"
      ],
      "text/plain": [
       "   as  easy  fast  great  is  language  learing  marrey  mustafa  programmig  python  soon  will\n",
       "0   1     1     1      0   2         0        1       0        0           1       2     0     0\n",
       "1   0     0     0      1   1         1        0       0        0           1       1     0     0\n",
       "2   0     0     0      0   0         0        0       1        1           0       0     1     1"
      ]
     },
     "execution_count": 16,
     "metadata": {},
     "output_type": "execute_result"
    }
   ],
   "source": [
    "df =pd.DataFrame(vectors.toarray(),columns=count_vaectorize.get_feature_names_out())\n",
    "df"
   ]
  },
  {
   "cell_type": "code",
   "execution_count": null,
   "id": "f56845ec-3b6e-4274-9689-14ed33f19bc1",
   "metadata": {},
   "outputs": [],
   "source": []
  }
 ],
 "metadata": {
  "kernelspec": {
   "display_name": "Python 3 (ipykernel)",
   "language": "python",
   "name": "python3"
  },
  "language_info": {
   "codemirror_mode": {
    "name": "ipython",
    "version": 3
   },
   "file_extension": ".py",
   "mimetype": "text/x-python",
   "name": "python",
   "nbconvert_exporter": "python",
   "pygments_lexer": "ipython3",
   "version": "3.10.18"
  }
 },
 "nbformat": 4,
 "nbformat_minor": 5
}
